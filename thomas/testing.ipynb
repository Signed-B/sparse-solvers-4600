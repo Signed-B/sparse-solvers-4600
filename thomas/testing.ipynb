{
 "cells": [
  {
   "cell_type": "code",
   "execution_count": 1,
   "metadata": {},
   "outputs": [],
   "source": [
    "import numpy as np\n",
    "import scipy as sp\n",
    "import matplotlib.pyplot as plt\n",
    "import time\n",
    "\n",
    "from thomas import thomas"
   ]
  },
  {
   "cell_type": "code",
   "execution_count": 2,
   "metadata": {},
   "outputs": [],
   "source": [
    "# Define the problem\n",
    "n = 10\n",
    "# Define the tri-diagonal matrix\n",
    "A = np.zeros((n, n))\n",
    "for i in range(n):\n",
    "    A[i, i] = 2\n",
    "    if i < n - 1:\n",
    "        A[i, i + 1] = -1\n",
    "        A[i + 1, i] = -1\n",
    "# TODO less trivial example\n",
    "\n",
    "# Define the right-hand side\n",
    "b = np.ones(n) # TODO change to something more interesting"
   ]
  },
  {
   "cell_type": "code",
   "execution_count": 3,
   "metadata": {},
   "outputs": [
    {
     "name": "stdout",
     "output_type": "stream",
     "text": [
      "Time for numpy:  0.010364055633544922\n"
     ]
    }
   ],
   "source": [
    "# measure time\n",
    "start = time.time()\n",
    "\n",
    "# Solve the problem using numpy (a lot of times)\n",
    "for i in range(1000):\n",
    "    x_np = np.linalg.solve(A, b)\n",
    "\n",
    "# measure time\n",
    "end = time.time()\n",
    "print(\"Time for numpy: \", (end - start))"
   ]
  },
  {
   "cell_type": "code",
   "execution_count": 4,
   "metadata": {},
   "outputs": [
    {
     "name": "stdout",
     "output_type": "stream",
     "text": [
      "Time for thomas:  0.00018930435180664062\n"
     ]
    }
   ],
   "source": [
    "# measure time\n",
    "start = time.time()\n",
    "\n",
    "# Solve the problem using thomas (a lot of times)\n",
    "for i in range(1000):\n",
    "    x_thomas = thomas(A, b)\n",
    "\n",
    "# measure time\n",
    "end = time.time()\n",
    "print(\"Time for thomas: \", (end - start))"
   ]
  },
  {
   "cell_type": "code",
   "execution_count": 5,
   "metadata": {},
   "outputs": [],
   "source": [
    "# Check if the solutions are the same\n",
    "# print(\"Are the solutions the same? \", np.allclose(x_np, x_thomas))"
   ]
  }
 ],
 "metadata": {
  "kernelspec": {
   "display_name": "Python 3",
   "language": "python",
   "name": "python3"
  },
  "language_info": {
   "codemirror_mode": {
    "name": "ipython",
    "version": 3
   },
   "file_extension": ".py",
   "mimetype": "text/x-python",
   "name": "python",
   "nbconvert_exporter": "python",
   "pygments_lexer": "ipython3",
   "version": "3.10.12"
  },
  "orig_nbformat": 4
 },
 "nbformat": 4,
 "nbformat_minor": 2
}
