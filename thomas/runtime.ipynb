{
 "cells": [
  {
   "cell_type": "code",
   "execution_count": 3,
   "metadata": {},
   "outputs": [],
   "source": [
    "import numpy as np\n",
    "import matplotlib.pyplot as plt\n",
    "import time\n",
    "\n",
    "from thomas import thomas"
   ]
  },
  {
   "cell_type": "code",
   "execution_count": 9,
   "metadata": {},
   "outputs": [
    {
     "name": "stdout",
     "output_type": "stream",
     "text": [
      "Dim 10\n",
      "Dim 100\n",
      "Dim 250\n",
      "Dim 500\n",
      "Dim 1000\n",
      "Dim 2500\n",
      "Dim 5000\n"
     ]
    }
   ],
   "source": [
    "N = 1000 # number of runs\n",
    "nn = [10, 100, 250, 500, 1000, 2500, 5000] # size of the matrix\n",
    "# nn = [3, 10, 100] # size of the matrix\n",
    "\n",
    "time_numpy = np.zeros(len(nn))\n",
    "time_thomas = np.zeros(len(nn))\n",
    "\n",
    "index = 0\n",
    "for n in nn:\n",
    "    print(\"Dim\", n)\n",
    "    for i in range(N):\n",
    "        # define the matrix\n",
    "        A = np.zeros((n, n))\n",
    "        # less trivial example (random matrix):\n",
    "        for i in range(n):\n",
    "            A[i, i] = 2\n",
    "            if i < n - 1:\n",
    "                A[i, i + 1] = np.random.rand()\n",
    "                A[i + 1, i] = np.random.rand()\n",
    "\n",
    "        # define the right-hand side\n",
    "        b = np.ones(n)\n",
    "\n",
    "        # numpy\n",
    "        start = time.time()\n",
    "        x = np.linalg.solve(A, b)\n",
    "        time_numpy[index] += time.time() - start\n",
    "\n",
    "        # thomas\n",
    "        start = time.time()\n",
    "        x = thomas(A, b)\n",
    "        time_thomas[index] += time.time() - start\n",
    "\n",
    "    index += 1\n",
    "\n",
    "time_numpy /= N\n",
    "time_thomas /= N\n",
    "\n",
    "print(\"numpy\", time_numpy)\n",
    "print(\"thomas\", time_thomas)\n",
    "\n",
    "plt.plot(nn, time_numpy, label='numpy')\n",
    "plt.plot(nn, time_thomas, label='thomas')\n",
    "plt.xlabel('n')\n",
    "plt.ylabel('time [s]')\n",
    "plt.xscale('log')\n",
    "plt.yscale('log')\n",
    "plt.legend()\n",
    "plt.title('Comparison of numpy and thomas algorithm')\n",
    "plt.show()\n"
   ]
  }
 ],
 "metadata": {
  "kernelspec": {
   "display_name": "Python 3",
   "language": "python",
   "name": "python3"
  },
  "language_info": {
   "codemirror_mode": {
    "name": "ipython",
    "version": 3
   },
   "file_extension": ".py",
   "mimetype": "text/x-python",
   "name": "python",
   "nbconvert_exporter": "python",
   "pygments_lexer": "ipython3",
   "version": "3.10.12"
  },
  "orig_nbformat": 4
 },
 "nbformat": 4,
 "nbformat_minor": 2
}
